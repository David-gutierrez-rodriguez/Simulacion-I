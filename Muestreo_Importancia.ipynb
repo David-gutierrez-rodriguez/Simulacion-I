{
  "nbformat": 4,
  "nbformat_minor": 0,
  "metadata": {
    "colab": {
      "provenance": [],
      "authorship_tag": "ABX9TyM35qMkM3R8ta+FTRo4LRXV",
      "include_colab_link": true
    },
    "kernelspec": {
      "name": "python3",
      "display_name": "Python 3"
    },
    "language_info": {
      "name": "python"
    }
  },
  "cells": [
    {
      "cell_type": "markdown",
      "metadata": {
        "id": "view-in-github",
        "colab_type": "text"
      },
      "source": [
        "<a href=\"https://colab.research.google.com/github/David-gutierrez-rodriguez/Simulacion-I/blob/main/Muestreo_Importancia.ipynb\" target=\"_parent\"><img src=\"https://colab.research.google.com/assets/colab-badge.svg\" alt=\"Open In Colab\"/></a>"
      ]
    },
    {
      "cell_type": "code",
      "execution_count": 1,
      "metadata": {
        "id": "V2mlEny2n9-m"
      },
      "outputs": [],
      "source": [
        "import numpy as np\n",
        "import matplotlib.pyplot as plt"
      ]
    },
    {
      "cell_type": "code",
      "source": [
        "def f(x):\n",
        "  return np.cos(np.pi*x/2)"
      ],
      "metadata": {
        "id": "guoZ_5KRyEE3"
      },
      "execution_count": 21,
      "outputs": []
    },
    {
      "cell_type": "markdown",
      "source": [
        "### Se puede escribir la integral $I$ de una función $f$ de la siguiente manera:\n",
        "$$I = \\int_A f(x)dx = \\int_A \\frac{f(x)}{g(x)}g(x) dx = E_g\\left[\\frac{f(x)}{g(x)}\\right],\\quad g(x) \\neq 0 \\quad \\forall x \\in A$$\n",
        "Usamos el estimador\n",
        "$$\\theta_3 = \\frac{1}{N}\\sum_{i = 1}^N\\frac{f(x_i)}{g(x_i)}, \\quad x_i \\sim g(X)$$"
      ],
      "metadata": {
        "id": "TD3SDY-JoQlD"
      }
    },
    {
      "cell_type": "markdown",
      "source": [
        "Para este ejemplo, estimaremos el valor de la siguiente integral:\n",
        "$$I = \\int_0^1 \\cos\\left(\\frac{\\pi x}{2}\\right)dx$$\n",
        "Con\n",
        "$$g(X) = \\frac{24}{24 - \\pi^2}\\left(1 - \\frac{\\pi^2X^2}{8}\\right)$$\n",
        "La cual se obtiene de los primeros 2 términos de la serie de Taylor del coseno y posteriorment normalizándola en el intervalo [0, 1]\\\n",
        "La cual tiene un máximo $M$ en $x = 0$\n",
        "$$M = \\frac{24}{24 - \\pi^2}$$"
      ],
      "metadata": {
        "id": "phFck2WUq3_D"
      }
    },
    {
      "cell_type": "markdown",
      "source": [
        "Distribución $g(X)$"
      ],
      "metadata": {
        "id": "7nYRKKu5vMkk"
      }
    },
    {
      "cell_type": "code",
      "source": [
        "def g(x):\n",
        "  return abs(24/(24 - np.pi**2)*(1 - np.pi**2*x**2/8))\n",
        "\n",
        "def G():\n",
        "  M = 24/(24 - np.pi**2)\n",
        "  while True:\n",
        "    r1 = np.random.uniform()\n",
        "    r2 = np.random.uniform()\n",
        "    if r2 <= g(r1)/M:\n",
        "      return r1"
      ],
      "metadata": {
        "id": "oR7p20k6wqPj"
      },
      "execution_count": 33,
      "outputs": []
    },
    {
      "cell_type": "markdown",
      "source": [
        "### Muestreo Importancia"
      ],
      "metadata": {
        "id": "6Fida_WyxwcM"
      }
    },
    {
      "cell_type": "code",
      "source": [
        "def MI(n):\n",
        "  x = 0\n",
        "  for i in range(n):\n",
        "    xi = G()\n",
        "    x += f(xi)/g(xi)\n",
        "  return x/n"
      ],
      "metadata": {
        "id": "9a3X-d5FxyCo"
      },
      "execution_count": 40,
      "outputs": []
    },
    {
      "cell_type": "markdown",
      "source": [
        "### MC crudo"
      ],
      "metadata": {
        "id": "19YdW9liyW6K"
      }
    },
    {
      "cell_type": "code",
      "source": [
        "def MC_crudo(n):\n",
        "  I = 0\n",
        "  for i in range(n):\n",
        "    I += f(np.random.uniform())\n",
        "  return I/n"
      ],
      "metadata": {
        "id": "Hp9LQ_IGyYcD"
      },
      "execution_count": 23,
      "outputs": []
    },
    {
      "cell_type": "markdown",
      "source": [
        "### Varianza de un método"
      ],
      "metadata": {
        "id": "b7ewS3tRyMYQ"
      }
    },
    {
      "cell_type": "code",
      "source": [
        "def varianza(metodo, n, N):\n",
        "  valores = [metodo(n) for _ in range(N)]\n",
        "  return np.mean(valores), np.var(valores)"
      ],
      "metadata": {
        "id": "_oMspYsNyPDX"
      },
      "execution_count": 24,
      "outputs": []
    },
    {
      "cell_type": "markdown",
      "source": [
        "### Realizamos el experimento con $n = 100$ muestras y lo repetimos $N = 100$ veces en ambos casos"
      ],
      "metadata": {
        "id": "NR4p1mdfyocf"
      }
    },
    {
      "cell_type": "code",
      "source": [
        "theta_1, var_theta_1 = varianza(MC_crudo, 100, 100)\n",
        "theta_2, var_theta_2 = varianza(MI, 100, 100)"
      ],
      "metadata": {
        "id": "LwquiTGmwYnY"
      },
      "execution_count": 55,
      "outputs": []
    },
    {
      "cell_type": "code",
      "source": [
        "print(f\"θ_1 = {theta_1}\")\n",
        "print(f\"var(θ_1) = {var_theta_1}\\n\")\n",
        "\n",
        "print(f\"θ_2 = {theta_2}\")\n",
        "print(f\"var(θ_2) = {var_theta_2}\")"
      ],
      "metadata": {
        "colab": {
          "base_uri": "https://localhost:8080/"
        },
        "id": "TLYUfIwzywcP",
        "outputId": "4deeecea-05f0-41ff-b24d-2270c9882774"
      },
      "execution_count": 56,
      "outputs": [
        {
          "output_type": "stream",
          "name": "stdout",
          "text": [
            "θ_1 = 0.6345219967087412\n",
            "var(θ_1) = 0.0009745811984958344\n",
            "\n",
            "θ_2 = 0.6129896222579417\n",
            "var(θ_2) = 0.00023881227343594555\n"
          ]
        }
      ]
    },
    {
      "cell_type": "markdown",
      "source": [
        "### Reducción de varianza"
      ],
      "metadata": {
        "id": "NgHb8Z_Gy130"
      }
    },
    {
      "cell_type": "code",
      "source": [
        "print(f\"{100*abs(var_theta_1 - var_theta_2)/var_theta_1:.2f}%\")"
      ],
      "metadata": {
        "colab": {
          "base_uri": "https://localhost:8080/"
        },
        "id": "xm6C6-juy3c1",
        "outputId": "a57512c8-f6c7-4371-f017-01f22c955c67"
      },
      "execution_count": 57,
      "outputs": [
        {
          "output_type": "stream",
          "name": "stdout",
          "text": [
            "75.50%\n"
          ]
        }
      ]
    },
    {
      "cell_type": "code",
      "source": [
        "n = [G() for _ in range(10000)]\n",
        "x = np.linspace(0, 1, 100)\n",
        "plt.hist(n, bins=x, density=True)\n",
        "plt.plot(x, g(x))\n",
        "plt.grid()\n",
        "plt.show()"
      ],
      "metadata": {
        "colab": {
          "base_uri": "https://localhost:8080/",
          "height": 430
        },
        "id": "Esr3f4YM0LUE",
        "outputId": "f1322d15-2300-41a8-c527-d154cece1c7c"
      },
      "execution_count": 36,
      "outputs": [
        {
          "output_type": "display_data",
          "data": {
            "text/plain": [
              "<Figure size 640x480 with 1 Axes>"
            ],
            "image/png": "[encoded data removed]"
          },
          "metadata": {}
        }
      ]
    }
  ]
}