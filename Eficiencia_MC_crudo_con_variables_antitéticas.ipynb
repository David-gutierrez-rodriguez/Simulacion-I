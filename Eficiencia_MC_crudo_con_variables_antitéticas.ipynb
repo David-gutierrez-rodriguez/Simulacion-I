{
  "nbformat": 4,
  "nbformat_minor": 0,
  "metadata": {
    "colab": {
      "provenance": [],
      "authorship_tag": "ABX9TyMO/UrhfL+iso9cKYZhjjlS",
      "include_colab_link": true
    },
    "kernelspec": {
      "name": "python3",
      "display_name": "Python 3"
    },
    "language_info": {
      "name": "python"
    }
  },
  "cells": [
    {
      "cell_type": "markdown",
      "metadata": {
        "id": "view-in-github",
        "colab_type": "text"
      },
      "source": [
        "<a href=\"https://colab.research.google.com/github/David-gutierrez-rodriguez/Simulacion-I/blob/main/Eficiencia_MC_crudo_con_variables_antit%C3%A9ticas.ipynb\" target=\"_parent\"><img src=\"https://colab.research.google.com/assets/colab-badge.svg\" alt=\"Open In Colab\"/></a>"
      ]
    },
    {
      "cell_type": "markdown",
      "source": [
        "Se dice que el método 1 es más eficiente que el método 2 si\n",
        "$$\\varepsilon = \\frac{var(\\theta_1)t_1}{var(\\theta_2)t_2} < 1$$"
      ],
      "metadata": {
        "id": "asBWKPuWac7E"
      }
    },
    {
      "cell_type": "code",
      "source": [
        "import numpy as np\n",
        "from random import random\n",
        "import matplotlib.pyplot as plt\n",
        "import time"
      ],
      "metadata": {
        "id": "n2oeJKH4XlZ-"
      },
      "execution_count": 19,
      "outputs": []
    },
    {
      "cell_type": "code",
      "source": [
        "def g(x):\n",
        "  return 1/(1 + x**2)"
      ],
      "metadata": {
        "id": "b3BBLgGnY3wu"
      },
      "execution_count": 20,
      "outputs": []
    },
    {
      "cell_type": "markdown",
      "source": [
        "Método de Monte Carlo crudo"
      ],
      "metadata": {
        "id": "JqnPFZ7IXU2y"
      }
    },
    {
      "cell_type": "code",
      "source": [
        "def MC_crudo(a, b, N):\n",
        "  I = 0\n",
        "  for i in range(N):\n",
        "    I += g(random()*(b-a)+a)\n",
        "  return I/N"
      ],
      "metadata": {
        "id": "XdhfOTT8XgsH"
      },
      "execution_count": 21,
      "outputs": []
    },
    {
      "cell_type": "markdown",
      "source": [
        "Método de Monte Carlo con variables antitéticas"
      ],
      "metadata": {
        "id": "a_vTl6z_mImP"
      }
    },
    {
      "cell_type": "code",
      "source": [
        "def MC_crudo_a(a, b, N):\n",
        "  I1, I2 = 0, 0\n",
        "  for i in range(N):\n",
        "    r = random()\n",
        "    I1 += g(r*(b-a)+a)\n",
        "    I2 += g((1-r)*(b-a)+a)\n",
        "  return (I1 + I2)/(2*N)"
      ],
      "metadata": {
        "id": "1aG-HX_umM1F"
      },
      "execution_count": 22,
      "outputs": []
    },
    {
      "cell_type": "markdown",
      "source": [
        "Tiempo de ejecución de un método"
      ],
      "metadata": {
        "id": "DgtWnCBvaUuu"
      }
    },
    {
      "cell_type": "code",
      "source": [
        "def tiempo(metodo, n, N):\n",
        "  t_f = time.time()\n",
        "  valores = [metodo(-1, 1, n) for _ in range(N)]\n",
        "  t_i = time.time()\n",
        "  return np.mean(valores), np.var(valores), -t_f + t_i"
      ],
      "metadata": {
        "id": "ZJ5WCZpgXIO1"
      },
      "execution_count": 23,
      "outputs": []
    },
    {
      "cell_type": "markdown",
      "source": [
        "Realizamos el experimento con $n = 1000$ muestras y lo repetimos $N = 100$ veces en ambos casos"
      ],
      "metadata": {
        "id": "6BFGaon-bJLn"
      }
    },
    {
      "cell_type": "code",
      "source": [
        "theta_1, var_theta_1, t_1 = tiempo(MC_crudo_a, 1000, 1000)\n",
        "theta_2, var_theta_2, t_2 = tiempo(MC_crudo, 1000, 1000)"
      ],
      "metadata": {
        "id": "nwICtg70YW-6"
      },
      "execution_count": 28,
      "outputs": []
    },
    {
      "cell_type": "code",
      "source": [
        "epsilon = (t_1*var_theta_1)/(t_2*var_theta_2)\n",
        "\n",
        "print(f\"theta_1 = {theta_1}\")\n",
        "print(f\"var(theta_1) = {var_theta_1}\")\n",
        "print(f\"t_1 = {t_1:.2f}\\n\")\n",
        "print(f\"theta_2 = {theta_2}\")\n",
        "print(f\"var(theta_2) = {var_theta_2}\")\n",
        "print(f\"t_2 = {t_2:.2f}\\n\")\n",
        "print(f\"epsilon = {epsilon:.2f}\")\n",
        "print(f\"\\nReducción de varianza: {100*abs(var_theta_1 - var_theta_2)/var_theta_1:.2f}%\")"
      ],
      "metadata": {
        "colab": {
          "base_uri": "https://localhost:8080/"
        },
        "id": "TlmiT197ZEua",
        "outputId": "01c98229-ca14-460c-aed5-3c27ad1e0890"
      },
      "execution_count": 37,
      "outputs": [
        {
          "output_type": "stream",
          "name": "stdout",
          "text": [
            "theta_1 = 0.7856140023950513\n",
            "var(theta_1) = 2.5687223891245316e-05\n",
            "t_1 = 0.63\n",
            "\n",
            "theta_2 = 0.7856621799865434\n",
            "var(theta_2) = 2.8571110486155504e-05\n",
            "t_2 = 0.30\n",
            "\n",
            "epsilon = 1.87\n",
            "\n",
            "Reducción de varianza: 11.23%\n"
          ]
        }
      ]
    },
    {
      "cell_type": "markdown",
      "source": [
        "Se concluye que el método de Monte Carlo crudo es más eficiente para esta simulación. Aunque la técnica de variables antitéticas redujo la varianza en un 11%, este beneficio fue superado por un tiempo de ejecución que se duplicó. El indicador de eficiencia relativa, $\\varepsilon$ = 1.85, confirma que el costo computacional adicional no justifica la ganancia en precisión, haciendo del método estándar la opción superior."
      ],
      "metadata": {
        "id": "Jejc0-fTZwV2"
      }
    }
  ]
}