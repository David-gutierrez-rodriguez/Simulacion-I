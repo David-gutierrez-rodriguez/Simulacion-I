{
  "nbformat": 4,
  "nbformat_minor": 0,
  "metadata": {
    "colab": {
      "provenance": [],
      "authorship_tag": "ABX9TyOhmpaQnDtWTzrETGIkFFZp",
      "include_colab_link": true
    },
    "kernelspec": {
      "name": "python3",
      "display_name": "Python 3"
    },
    "language_info": {
      "name": "python"
    }
  },
  "cells": [
    {
      "cell_type": "markdown",
      "metadata": {
        "id": "view-in-github",
        "colab_type": "text"
      },
      "source": [
        "<a href=\"https://colab.research.google.com/github/David-gutierrez-rodriguez/Simulacion-I/blob/main/M%C3%A9todo_de_las_12_uniformes.ipynb\" target=\"_parent\"><img src=\"https://colab.research.google.com/assets/colab-badge.svg\" alt=\"Open In Colab\"/></a>"
      ]
    },
    {
      "cell_type": "markdown",
      "source": [
        "# Variables aleatoias no uniformes\n",
        "## Método de las 12 uniformes\n",
        "### Objetivo\n",
        "Simular una distribución normal de la forma\n",
        "$$\\frac{1}{\\sigma\\sqrt{2\\pi}}e^{-\\frac{1}{2}\\left(\\frac{x - \\mu}{\\sigma}\\right)^2}$$\\\n",
        "Usando el Teorema del Límite Central, la suma de $n$ variables independientes e identicamente distribuídas, tiende a ser normal\n",
        "$$\\sum_{i = 1}^nX_i \\sim \\mathcal{N}$$\n",
        "Usando el TLC obtenemos\n",
        "$$Z = \\frac{\\sum_{i = 1}^nX_i - \\frac{n}{2}}{\\sqrt{\\frac{n}{12}}}$$\n",
        "Convenientemente, observamos que si $n = 12$, la expresión anterior se simplifica de la siguiente manera:\n",
        "$$Z = \\sum_{i = 1}^{12}X_i - 6$$\\\n",
        "Luego\n",
        "\n",
        "$$\\frac{x - \\mu}{\\sigma} = Z$$\n",
        "$$\\rightarrow x = \\mu + \\sigma Z = \\mu + \\sigma\\left(\\sum_{i = 1}^{12}X_i - 6\\right) \\sim \\mathcal{N}(\\mu, \\sigma)$$"
      ],
      "metadata": {
        "id": "L8qeD0wS_Don"
      }
    },
    {
      "cell_type": "code",
      "source": [
        "from random import random\n",
        "import numpy as np\n",
        "import matplotlib.pyplot as plt"
      ],
      "metadata": {
        "id": "MNidGCH16XBm"
      },
      "execution_count": 1,
      "outputs": []
    },
    {
      "cell_type": "markdown",
      "source": [
        "Función que genera $n$ números pseudo aleatorios con distribución normal de media $\\mu$ y varianza $\\sigma^2$"
      ],
      "metadata": {
        "id": "2szGjAC4ErNm"
      }
    },
    {
      "cell_type": "code",
      "execution_count": 2,
      "metadata": {
        "id": "lEj8Az375rwL"
      },
      "outputs": [],
      "source": [
        "def norm(mu, sigma, n):\n",
        "  nums = []\n",
        "  for i in range(n):\n",
        "    s = sum([random() for _ in range(12)]) - 6\n",
        "    nums.append(mu + sigma*s)\n",
        "  return nums"
      ]
    },
    {
      "cell_type": "markdown",
      "source": [
        "Simulación de 100,000 números pseudo aleatorios con distribución normal estándar e histograma"
      ],
      "metadata": {
        "id": "oJOUm_DfFFqk"
      }
    },
    {
      "cell_type": "code",
      "source": [
        "mu = 0\n",
        "x = norm(mu, 1, 1000000)\n",
        "plt.hist(x, bins = 100)\n",
        "plt.show()"
      ],
      "metadata": {
        "colab": {
          "base_uri": "https://localhost:8080/",
          "height": 430
        },
        "id": "N6Dxc9286-Jr",
        "outputId": "babe596c-cd77-46fb-df63-e03c342e14e4"
      },
      "execution_count": 4,
      "outputs": [
        {
          "output_type": "display_data",
          "data": {
            "text/plain": [
              "<Figure size 640x480 with 1 Axes>"
            ],
            "image/png": "[encoded data removed]"
          },
          "metadata": {}
        }
      ]
    },
    {
      "cell_type": "markdown",
      "source": [
        "Comparación entre media y varianzas simuladas y teóricas"
      ],
      "metadata": {
        "id": "RCh2OK7gFZ4K"
      }
    },
    {
      "cell_type": "code",
      "source": [
        "mu_sim = np.mean(x)\n",
        "s_sim = np.var(x)\n",
        "\n",
        "mu_teo = 0\n",
        "s_teo = 1\n",
        "\n",
        "print(\"Media teórica:\", mu_teo)\n",
        "print(\"Media simulada:\", mu_sim)\n",
        "\n",
        "print(\"\\nVarianza teórica:\", s_teo)\n",
        "print(\"Varianza simulada:\", s_sim)"
      ],
      "metadata": {
        "colab": {
          "base_uri": "https://localhost:8080/"
        },
        "id": "f7sg22t3FUjq",
        "outputId": "1cf38b30-d3b4-4b2f-c59f-0afdf9f0b332"
      },
      "execution_count": 6,
      "outputs": [
        {
          "output_type": "stream",
          "name": "stdout",
          "text": [
            "Media teórica: 0\n",
            "Media simulada: 0.00022869461500566533\n",
            "\n",
            "Varianza teórica: 1\n",
            "Varianza simulada: 0.9954273639207617\n"
          ]
        }
      ]
    }
  ]
}