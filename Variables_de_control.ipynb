{
  "nbformat": 4,
  "nbformat_minor": 0,
  "metadata": {
    "colab": {
      "provenance": [],
      "authorship_tag": "ABX9TyPkKvodoETCGJriZNMmL7OJ",
      "include_colab_link": true
    },
    "kernelspec": {
      "name": "python3",
      "display_name": "Python 3"
    },
    "language_info": {
      "name": "python"
    }
  },
  "cells": [
    {
      "cell_type": "markdown",
      "metadata": {
        "id": "view-in-github",
        "colab_type": "text"
      },
      "source": [
        "<a href=\"https://colab.research.google.com/github/David-gutierrez-rodriguez/Simulacion-I/blob/main/Variables_de_control.ipynb\" target=\"_parent\"><img src=\"https://colab.research.google.com/assets/colab-badge.svg\" alt=\"Open In Colab\"/></a>"
      ]
    },
    {
      "cell_type": "code",
      "source": [
        "import numpy as np\n",
        "import matplotlib.pyplot as plt"
      ],
      "metadata": {
        "id": "ZolLdkGJXsq2"
      },
      "execution_count": 34,
      "outputs": []
    },
    {
      "cell_type": "code",
      "source": [
        "def f(x):\n",
        "  return 1/(1 + x**2)\n",
        "\n",
        "def g(x):\n",
        "  return x"
      ],
      "metadata": {
        "id": "aybuvqg8XzO9"
      },
      "execution_count": 7,
      "outputs": []
    },
    {
      "cell_type": "markdown",
      "source": [
        "Estimaremos el valor de la integral\n",
        "$$I = \\int_0^1 \\frac{1}{1+x^2}dx$$ usando variables de control\n",
        "\n",
        "Usando MC crudo y la variable\n",
        "$$X = \\frac{\\frac{1}{1 + U_1^2} + \\frac{1}{1 + U_2^2} + \\cdots + \\frac{1}{1 + U_n^2}}{n},\\quad U_i \\sim U(0, 1),\\quad i = 1, 2, ..., n$$\n",
        "Y como variable de control:\n",
        "$$Y = \\frac{U_1 + U_2 + \\cdots + U_n}{n},\\quad U_i \\sim U(0, 1),\\quad i = 1, 2, ..., n$$"
      ],
      "metadata": {
        "id": "_c0luZFgWIv_"
      }
    },
    {
      "cell_type": "markdown",
      "source": [
        "### MC crudo"
      ],
      "metadata": {
        "id": "nGRSYkPBXogj"
      }
    },
    {
      "cell_type": "code",
      "execution_count": 9,
      "metadata": {
        "id": "lF7b8QyjQoRn"
      },
      "outputs": [],
      "source": [
        "def MC_crudo(f, a, b, N):\n",
        "  I = 0\n",
        "  for i in range(N):\n",
        "    I += f(np.random.uniform(a, b))\n",
        "  return I/N"
      ]
    },
    {
      "cell_type": "markdown",
      "source": [
        "### MC crudo con variables de control"
      ],
      "metadata": {
        "id": "SM6Ufj0RX8Ze"
      }
    },
    {
      "cell_type": "code",
      "source": [
        "def MC_control(f, a, b, N):\n",
        "  X = [MC_crudo(f, a, b, N) for i in range(N)]\n",
        "  Y = [MC_crudo(g, a, b, N) for i in range(N)]\n",
        "  c = -np.cov(X, Y)[0, 1]/np.var(Y)\n",
        "  muy = np.mean(Y)\n",
        "  I = X + c*(Y - muy)\n",
        "  return np.mean(I)"
      ],
      "metadata": {
        "id": "SThXYdNVX_Wb"
      },
      "execution_count": 28,
      "outputs": []
    },
    {
      "cell_type": "markdown",
      "source": [
        "### Varianza de un método"
      ],
      "metadata": {
        "id": "IIM3HVDybqOF"
      }
    },
    {
      "cell_type": "code",
      "source": [
        "def varianza(metodo, n, N):\n",
        "  valores = [metodo(f, 0, 1, n) for _ in range(N)]\n",
        "  return np.mean(valores), np.var(valores)"
      ],
      "metadata": {
        "id": "IzScqXGsacV2"
      },
      "execution_count": 43,
      "outputs": []
    },
    {
      "cell_type": "markdown",
      "source": [
        "### Realizamos el experimento con $n = 100$ muestras y lo repetimos $N = 100$ veces en ambos casos"
      ],
      "metadata": {
        "id": "un6Enx8hcAdY"
      }
    },
    {
      "cell_type": "code",
      "source": [
        "theta_1, var_theta_1 = varianza(MC_crudo, 100, 100)\n",
        "theta_2, var_theta_2 = varianza(MC_control, 100, 100)"
      ],
      "metadata": {
        "id": "ZAfmVx46cCBv"
      },
      "execution_count": 45,
      "outputs": []
    },
    {
      "cell_type": "code",
      "source": [
        "print(f\"theta_1 = {theta_1}\")\n",
        "print(f\"var(theta_1) = {var_theta_1}\\n\")\n",
        "\n",
        "print(f\"theta_2 = {theta_2}\")\n",
        "print(f\"var(theta_2) = {var_theta_2}\")"
      ],
      "metadata": {
        "colab": {
          "base_uri": "https://localhost:8080/"
        },
        "id": "sTOQpiV9c9yd",
        "outputId": "687026ea-21d8-4d66-abff-6e1d98be73d5"
      },
      "execution_count": 46,
      "outputs": [
        {
          "output_type": "stream",
          "name": "stdout",
          "text": [
            "theta_1 = 0.7854513026414878\n",
            "var(theta_1) = 0.00029946719217536756\n",
            "\n",
            "theta_2 = 0.7850473802190803\n",
            "var(theta_2) = 3.0808195073057975e-06\n"
          ]
        }
      ]
    },
    {
      "cell_type": "markdown",
      "source": [
        "### Reducción de varianza"
      ],
      "metadata": {
        "id": "niOytv9BeTQW"
      }
    },
    {
      "cell_type": "code",
      "source": [
        "print(f\"{100*abs(var_theta_1 - var_theta_2)/var_theta_1:.2f}%\")"
      ],
      "metadata": {
        "colab": {
          "base_uri": "https://localhost:8080/"
        },
        "id": "H_FIht2LeXOR",
        "outputId": "4f57b93f-90bc-4cfa-d5b7-d3340d157c62"
      },
      "execution_count": 53,
      "outputs": [
        {
          "output_type": "stream",
          "name": "stdout",
          "text": [
            "98.97%\n"
          ]
        }
      ]
    },
    {
      "cell_type": "markdown",
      "source": [
        "Usando este método se reduce en un 99.97% la varianza de nuestra aproximación de la integral"
      ],
      "metadata": {
        "id": "hu9WuX_ve2bq"
      }
    }
  ]
}