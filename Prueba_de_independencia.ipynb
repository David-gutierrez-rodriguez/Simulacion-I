{
  "nbformat": 4,
  "nbformat_minor": 0,
  "metadata": {
    "colab": {
      "provenance": [],
      "authorship_tag": "ABX9TyMeuOC4YazZj2ZYjEGmFYZe",
      "include_colab_link": true
    },
    "kernelspec": {
      "name": "python3",
      "display_name": "Python 3"
    },
    "language_info": {
      "name": "python"
    }
  },
  "cells": [
    {
      "cell_type": "markdown",
      "metadata": {
        "id": "view-in-github",
        "colab_type": "text"
      },
      "source": [
        "<a href=\"https://colab.research.google.com/github/David-gutierrez-rodriguez/Simulacion-I/blob/main/Prueba_de_independencia.ipynb\" target=\"_parent\"><img src=\"https://colab.research.google.com/assets/colab-badge.svg\" alt=\"Open In Colab\"/></a>"
      ]
    },
    {
      "cell_type": "code",
      "source": [
        "import math\n",
        "from scipy import stats"
      ],
      "metadata": {
        "id": "XBrd2eJEjiM0"
      },
      "execution_count": 1,
      "outputs": []
    },
    {
      "cell_type": "code",
      "execution_count": 2,
      "metadata": {
        "id": "kV94Gh5mm9ap"
      },
      "outputs": [],
      "source": [
        "# Función para generar la secuencia de comparación entre elementos consecutivos\n",
        "def secuencia(nums):\n",
        "    \"\"\"\n",
        "    Genera una secuencia binaria basada en la comparación de elementos consecutivos.\n",
        "    - Si nums[i] >= nums[i-1], se agrega un 1.\n",
        "    - Si nums[i] < nums[i-1], se agrega un 0.\n",
        "\n",
        "    Parámetro:\n",
        "    nums (lista): Lista de números a analizar.\n",
        "\n",
        "    Retorna:\n",
        "    list: Lista de 1s y 0s que indican si la secuencia es creciente o decreciente.\n",
        "    \"\"\"\n",
        "    S = []\n",
        "    for i in range(1, len(nums)):\n",
        "        if nums[i] >= nums[i - 1]:\n",
        "            S.append(1)\n",
        "        else:\n",
        "            S.append(0)\n",
        "    return S\n",
        "\n",
        "# Función para contar el número de rachas en la secuencia\n",
        "def racha(S):\n",
        "    \"\"\"\n",
        "    Calcula el número de rachas (cambios de 0 a 1 o de 1 a 0 en la secuencia).\n",
        "\n",
        "    Parámetro:\n",
        "    S (lista): Lista de 1s y 0s obtenida de la función `secuencia`.\n",
        "\n",
        "    Retorna:\n",
        "    int: Número total de rachas en la secuencia.\n",
        "    \"\"\"\n",
        "    C0 = 1  # Se inicia con al menos una racha\n",
        "    for i in range(len(S) - 1):\n",
        "        if S[i] != S[i + 1]:\n",
        "            C0 += 1\n",
        "    return C0\n",
        "\n",
        "# Función para realizar la prueba de rachas\n",
        "def PH(C0, n, alpha):\n",
        "    \"\"\"\n",
        "    Realiza la prueba de rachas para evaluar si una secuencia de números es aleatoria.\n",
        "\n",
        "    Parámetros:\n",
        "    C0 (int): Número de rachas en la secuencia.\n",
        "    n (int): Número total de datos en la muestra.\n",
        "    alpha (float): Nivel de significancia para la prueba (ej. 0.05 para 95% de confianza).\n",
        "\n",
        "    No retorna nada, pero imprime si los números parecen aleatorios o no.\n",
        "    \"\"\"\n",
        "    # Cálculo de la media y varianza teórica de la distribución de rachas\n",
        "    mu = (2 * n - 1) / 3            # Media esperada\n",
        "    s2 = (16 * n - 29) / 90         # Varianza esperada\n",
        "    z0 = (C0 - mu) / math.sqrt(s2)  # Estadístico de prueba Z\n",
        "\n",
        "    # Valor crítico de Z basado en la distribución normal estándar\n",
        "    z = stats.norm.ppf(1 - alpha / 2)\n",
        "\n",
        "    # Comparación con los valores críticos\n",
        "    if z0 < -z or z0 > z:\n",
        "        print(\"Los números no son aleatorios\")\n",
        "    else:\n",
        "        print(\"Los números son aleatorios\")"
      ]
    },
    {
      "cell_type": "code",
      "source": [
        "# Lista de números pseudoaleatorios a evaluar\n",
        "numeros = [0.048, 0.926, 0.368, 0.787, 0.298, 0.591, 0.007, 0.437, 0.594, 0.199, 0.478, 0.551,\n",
        "           0.178, 0.086, 0.157, 0.166, 0.362, 0.411, 0.951, 0.401, 0.932, 0.533, 0.545, 0.772, 0.631]"
      ],
      "metadata": {
        "id": "QIYIb-NUow0R"
      },
      "execution_count": 3,
      "outputs": []
    },
    {
      "cell_type": "code",
      "source": [
        "# Aplicar la prueba de rachas\n",
        "S = secuencia(numeros)        # Obtener la secuencia de 1s y 0s\n",
        "C0 = racha(S)                 # Contar el número de rachas\n",
        "PH(C0, len(numeros), 0.05)    # Realizar la prueba con nivel de significancia del 5%"
      ],
      "metadata": {
        "colab": {
          "base_uri": "https://localhost:8080/"
        },
        "id": "gMahg2xxp3zW",
        "outputId": "a2204f96-07a2-440d-97b9-acdb0631c388"
      },
      "execution_count": 4,
      "outputs": [
        {
          "output_type": "stream",
          "name": "stdout",
          "text": [
            "Los números son aleatorios\n"
          ]
        }
      ]
    }
  ]
}