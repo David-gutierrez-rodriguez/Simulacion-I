{
  "nbformat": 4,
  "nbformat_minor": 0,
  "metadata": {
    "colab": {
      "provenance": [],
      "authorship_tag": "ABX9TyM4e1tSjXVAAQgP0cxgDcwM",
      "include_colab_link": true
    },
    "kernelspec": {
      "name": "python3",
      "display_name": "Python 3"
    },
    "language_info": {
      "name": "python"
    }
  },
  "cells": [
    {
      "cell_type": "markdown",
      "metadata": {
        "id": "view-in-github",
        "colab_type": "text"
      },
      "source": [
        "<a href=\"https://colab.research.google.com/github/David-gutierrez-rodriguez/Simulacion-I/blob/main/Eficiencia_MC_y_MC_crudo.ipynb\" target=\"_parent\"><img src=\"https://colab.research.google.com/assets/colab-badge.svg\" alt=\"Open In Colab\"/></a>"
      ]
    },
    {
      "cell_type": "markdown",
      "source": [
        "Se dice que el método 1 es más eficiente que el método 2 si\n",
        "$$\\varepsilon = \\frac{var(\\theta_1)t_1}{var(\\theta_2)t_2} < 1$$"
      ],
      "metadata": {
        "id": "asBWKPuWac7E"
      }
    },
    {
      "cell_type": "code",
      "source": [
        "import numpy as np\n",
        "from random import random\n",
        "import matplotlib.pyplot as plt\n",
        "import time"
      ],
      "metadata": {
        "id": "n2oeJKH4XlZ-"
      },
      "execution_count": 2,
      "outputs": []
    },
    {
      "cell_type": "code",
      "source": [
        "def g(x):\n",
        "  return np.sqrt(np.atan(x))"
      ],
      "metadata": {
        "id": "b3BBLgGnY3wu"
      },
      "execution_count": 3,
      "outputs": []
    },
    {
      "cell_type": "markdown",
      "source": [
        "Método de Montecarlo"
      ],
      "metadata": {
        "id": "8JK7wT9hXIr4"
      }
    },
    {
      "cell_type": "code",
      "execution_count": 1,
      "metadata": {
        "id": "JXie3C6jW-Sw"
      },
      "outputs": [],
      "source": [
        "def is_below(x, y):\n",
        "  c = 0\n",
        "  for i in range(len(x)):\n",
        "    if y[i] <= g(x[i]):\n",
        "      c += 1\n",
        "  return c\n",
        "\n",
        "def MC(a, b, N):\n",
        "  x = np.linspace(a, b, 100)\n",
        "  y_max = np.max(g(x))\n",
        "  y_min = np.min(g(x))\n",
        "\n",
        "  x = [random() * (b - a) + a for _ in range(N)]\n",
        "  y = [random() * (y_max - y_min) + y_min for _ in range(N)]\n",
        "\n",
        "  return (b - a) * (y_max - y_min) * is_below(x, y) / N"
      ]
    },
    {
      "cell_type": "markdown",
      "source": [
        "Método de Monte Carlo crudo"
      ],
      "metadata": {
        "id": "JqnPFZ7IXU2y"
      }
    },
    {
      "cell_type": "code",
      "source": [
        "def MC_crudo(a, b, N):\n",
        "  I = 0\n",
        "  for i in range(N):\n",
        "    I += g(random()*(b-a)+a)\n",
        "  return I/N"
      ],
      "metadata": {
        "id": "XdhfOTT8XgsH"
      },
      "execution_count": 4,
      "outputs": []
    },
    {
      "cell_type": "markdown",
      "source": [
        "Tiempo de ejecución de un método"
      ],
      "metadata": {
        "id": "DgtWnCBvaUuu"
      }
    },
    {
      "cell_type": "code",
      "source": [
        "def tiempo(metodo, n, N):\n",
        "  t_f = time.time()\n",
        "  valores = [metodo(0, 1, n) for _ in range(N)]\n",
        "  t_i = time.time()\n",
        "  return np.mean(valores), np.var(valores), -t_f + t_i"
      ],
      "metadata": {
        "id": "ZJ5WCZpgXIO1"
      },
      "execution_count": 7,
      "outputs": []
    },
    {
      "cell_type": "markdown",
      "source": [
        "Realizamos el experimento con $n = 1000$ muestras y lo repetimos $N = 1000$ veces en ambos casos"
      ],
      "metadata": {
        "id": "6BFGaon-bJLn"
      }
    },
    {
      "cell_type": "code",
      "source": [
        "theta_1, var_theta_1, t_1 = tiempo(MC, 1000, 1000)\n",
        "theta_2, var_theta_2, t_2 = tiempo(MC_crudo, 1000, 1000)"
      ],
      "metadata": {
        "id": "nwICtg70YW-6"
      },
      "execution_count": 8,
      "outputs": []
    },
    {
      "cell_type": "code",
      "source": [
        "epsilon = (t_1*var_theta_1)/(t_2*var_theta_2)\n",
        "\n",
        "print(f\"theta_1 = {theta_1}\")\n",
        "print(f\"var(theta_1) = {var_theta_1}\")\n",
        "print(f\"t_1 = {t_1}\\n\")\n",
        "print(f\"theta_2 = {theta_2}\")\n",
        "print(f\"var(theta_2) = {var_theta_2}\")\n",
        "print(f\"t_2 = {t_2}\\n\")\n",
        "print(f\"epsilon = {epsilon}\")"
      ],
      "metadata": {
        "colab": {
          "base_uri": "https://localhost:8080/"
        },
        "id": "TlmiT197ZEua",
        "outputId": "6c0f80f9-1b95-4d1e-a2d6-b97f1b1c87d7"
      },
      "execution_count": 9,
      "outputs": [
        {
          "output_type": "stream",
          "name": "stdout",
          "text": [
            "theta_1 = 0.6301064577699854\n",
            "var(theta_1) = 0.00016783880133447318\n",
            "t_1 = 3.0657167434692383\n",
            "\n",
            "theta_2 = 0.6296929787073782\n",
            "var(theta_2) = 4.2324715782713323e-05\n",
            "t_2 = 3.3558993339538574\n",
            "\n",
            "epsilon = 3.6226086488753735\n"
          ]
        }
      ]
    },
    {
      "cell_type": "markdown",
      "source": [
        "Ya que $\\varepsilon$ = 3.62 > 1, entonces el Método de Monte Carlo crudo es más eficiente que el Método de Monte carlo"
      ],
      "metadata": {
        "id": "Jejc0-fTZwV2"
      }
    }
  ]
}