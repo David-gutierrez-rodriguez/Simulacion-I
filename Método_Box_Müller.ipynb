{
  "nbformat": 4,
  "nbformat_minor": 0,
  "metadata": {
    "colab": {
      "provenance": [],
      "authorship_tag": "ABX9TyN3ibjqbima7EWBZsZtqn0S",
      "include_colab_link": true
    },
    "kernelspec": {
      "name": "python3",
      "display_name": "Python 3"
    },
    "language_info": {
      "name": "python"
    }
  },
  "cells": [
    {
      "cell_type": "markdown",
      "metadata": {
        "id": "view-in-github",
        "colab_type": "text"
      },
      "source": [
        "<a href=\"https://colab.research.google.com/github/David-gutierrez-rodriguez/Simulacion-I/blob/main/M%C3%A9todo_Box_M%C3%BCller.ipynb\" target=\"_parent\"><img src=\"https://colab.research.google.com/assets/colab-badge.svg\" alt=\"Open In Colab\"/></a>"
      ]
    },
    {
      "cell_type": "markdown",
      "source": [
        "# Variables aleatorias no uniformes\n",
        "## Método Box - Müller\n",
        "\n",
        "Dados:\n",
        "$$x_1 = r\\cos(\\theta)$$\n",
        "$$x_2 = r\\sin(\\theta)$$\n",
        "Con\n",
        "$$r = \\sqrt{-2\\ln(u_1)}$$\n",
        "$$\\theta = 2\\pi u_2$$\n",
        "Además\n",
        "$$x_1, x_2 \\sim \\mathcal{N}(0, 1)$$\n",
        "$$f(x_1, x_2) = \\frac{1}{2\\pi}e^{-\\frac{(x_1^2 + x_2^2)}{2}}$$\n",
        "Veamos que $u_1, u_2 \\sim \\mathcal{U}(0, 1)$:\\\n",
        "Para $u_1$:\n",
        "$$x_1^2 + x_2^2 = r^2\\cos^2(\\theta) + r^2\\sin^2(\\theta) = r^2 \\rightarrow r^2 = -2\\ln(u_1) \\sim \\chi^2_2$$\n",
        "Luego\n",
        "$$u_1 = e^{-\\frac{r^2}{2}} \\sim \\mathcal{U}(0, 1)$$\n",
        "Para $u_2$:\n",
        "$$\\tan(\\theta) = \\frac{x_2}{x_1} \\rightarrow \\theta = \\tan^{-1}\\left(\\frac{x_2}{x_1}\\right) \\sim \\mathcal{U}(0, 2\\pi)$$\n",
        "Luego\n",
        "$$u_2 = \\frac{\\theta}{2\\pi} \\sim \\mathcal{U}(0, 1)$$\\\n",
        "Así, si de las expresiones para $u_1$ y $u_2$ resolvemos para $r$ y $\\theta$ respectivamente, obtenemos las expresiones iniciales\n",
        "$$r = \\sqrt{-2\\ln(u_1)}$$\n",
        "$$\\theta = 2\\pi u_2$$\n",
        "Y finalmente\n",
        "$$x_1 = r\\cos(\\theta)$$\n",
        "$$x_2 = r\\sin(\\theta)$$\n",
        "Nos asegura que $x_1, x_2 \\sim \\mathcal{N}(0, 1)$"
      ],
      "metadata": {
        "id": "Zk-wEHV6Ru9B"
      }
    },
    {
      "cell_type": "code",
      "execution_count": 2,
      "metadata": {
        "id": "QOBPaNiP8wV9"
      },
      "outputs": [],
      "source": [
        "import numpy as np\n",
        "import matplotlib.pyplot as plt\n",
        "from random import random"
      ]
    },
    {
      "cell_type": "markdown",
      "source": [
        "Función que simula $2n$ números pseudoaleatorios con media $\\mu$ y desviación estándar $\\sigma$ (por defecto, siguen una distribución normal estándar)"
      ],
      "metadata": {
        "id": "x-25Ry1fbwxV"
      }
    },
    {
      "cell_type": "code",
      "source": [
        "def norm(n, mu = 0, s = 1):\n",
        "  X = []\n",
        "  for i in range(n):\n",
        "    u1, u2 = random(), random()\n",
        "    R = np.sqrt(-2*np.log(u1))\n",
        "    theta = 2*np.pi*u2\n",
        "    x = R*np.cos(theta)\n",
        "    y = R*np.sin(theta)\n",
        "    X.extend([mu + x*s, mu + y*s])\n",
        "  return X"
      ],
      "metadata": {
        "id": "iVQX-0Nd9VD0"
      },
      "execution_count": 15,
      "outputs": []
    },
    {
      "cell_type": "markdown",
      "source": [
        "Histograma de 100,000 números generados"
      ],
      "metadata": {
        "id": "Z-DZOeuycmlm"
      }
    },
    {
      "cell_type": "code",
      "source": [
        "mu, s = -4, 100\n",
        "x = norm(100000, mu, s)\n",
        "plt.hist(x, bins = 100, density = True)\n",
        "plt.title(f\"Distribución normal: mu = {mu}, s = {s}\")\n",
        "plt.xlabel(\"x\")\n",
        "plt.ylabel(\"f(x)\")\n",
        "plt.show()"
      ],
      "metadata": {
        "colab": {
          "base_uri": "https://localhost:8080/",
          "height": 472
        },
        "id": "ibjBtE6696RT",
        "outputId": "1f2cee87-af48-4929-c92b-727927eb647a"
      },
      "execution_count": 20,
      "outputs": [
        {
          "output_type": "display_data",
          "data": {
            "text/plain": [
              "<Figure size 640x480 with 1 Axes>"
            ],
            "image/png": "[encoded data removed]"
          },
          "metadata": {}
        }
      ]
    },
    {
      "cell_type": "markdown",
      "source": [
        "Comparación entre media y varianzas simuladas y teóricas"
      ],
      "metadata": {
        "id": "t1iYCjP4dMa_"
      }
    },
    {
      "cell_type": "code",
      "source": [
        "mu_sim = np.mean(x)\n",
        "s_sim = np.var(x)\n",
        "\n",
        "\n",
        "print(\"Media teórica:\", mu)\n",
        "print(\"Media simulada:\", mu_sim)\n",
        "\n",
        "print(\"\\nVarianza teórica:\", s**2)\n",
        "print(\"Varianza simulada:\", s_sim)"
      ],
      "metadata": {
        "colab": {
          "base_uri": "https://localhost:8080/"
        },
        "id": "US1vc6Gv_KL_",
        "outputId": "76fd88ad-829e-46a8-8641-7e0f48470e8e"
      },
      "execution_count": 22,
      "outputs": [
        {
          "output_type": "stream",
          "name": "stdout",
          "text": [
            "Media teórica: -4\n",
            "Media simulada: -4.262358606471668\n",
            "\n",
            "Varianza teórica: 10000\n",
            "Varianza simulada: 10054.969840159574\n"
          ]
        }
      ]
    }
  ]
}