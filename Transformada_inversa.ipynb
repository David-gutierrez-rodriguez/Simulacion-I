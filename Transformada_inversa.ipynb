{
  "nbformat": 4,
  "nbformat_minor": 0,
  "metadata": {
    "colab": {
      "provenance": [],
      "authorship_tag": "ABX9TyOzQhHBkIELBuFt0FWXijnz",
      "include_colab_link": true
    },
    "kernelspec": {
      "name": "python3",
      "display_name": "Python 3"
    },
    "language_info": {
      "name": "python"
    }
  },
  "cells": [
    {
      "cell_type": "markdown",
      "metadata": {
        "id": "view-in-github",
        "colab_type": "text"
      },
      "source": [
        "<a href=\"https://colab.research.google.com/github/David-gutierrez-rodriguez/Simulacion-I/blob/main/Transformada_inversa.ipynb\" target=\"_parent\"><img src=\"https://colab.research.google.com/assets/colab-badge.svg\" alt=\"Open In Colab\"/></a>"
      ]
    },
    {
      "cell_type": "markdown",
      "source": [
        "# Variables aleatorias no uniformes\n",
        "## Método de la transformada inversa\n",
        "### Pasos:\n",
        "\n",
        "\n",
        "1.   Dado $f(x)$, calculamos $$F(x) = \\int_{-\\infty}^xf(\\xi)d\\xi$$\n",
        "2.   Suponer $R \\sim (0, 1)$ y resolver $F(x) = R$, para obtener $$x = F^{-1}(R)$$\n",
        "\n"
      ],
      "metadata": {
        "id": "dd8i9PHewxhP"
      }
    },
    {
      "cell_type": "markdown",
      "source": [
        "Ejempo con distribución triangular con parámetros: $$a = 1, b = 3, c = 5$$\n",
        "\n",
        "Función de distribución\n",
        "$$f(x) = \\left\\{\\begin{matrix}\n",
        "\\frac{2(x - a)}{(c - a)(b - a)} & \\text{si} & a \\le x \\le b\\\\\n",
        "\\frac{2(x - c)}{(c - a)(b - c)} & \\text{si} & b < x \\le c\n",
        "\\end{matrix}\\right.$$\n",
        "Media y varianza teóricas:\n",
        "$$\\mu = \\frac{a + b + c}{3}$$\\\n",
        "$$\\sigma^2 = \\frac{a^2 + b^2 + c^2 - ab - ac - bc}{18}$$"
      ],
      "metadata": {
        "id": "uFiXjHJxx728"
      }
    },
    {
      "cell_type": "code",
      "execution_count": 1,
      "metadata": {
        "id": "3jIxdyDmS4HO"
      },
      "outputs": [],
      "source": [
        "from random import random\n",
        "import matplotlib.pyplot as plt\n",
        "import numpy as np"
      ]
    },
    {
      "cell_type": "markdown",
      "source": [
        "Función de distribución triangular"
      ],
      "metadata": {
        "id": "SNoiY1kXy1kD"
      }
    },
    {
      "cell_type": "code",
      "source": [
        "def f(a, b, c, x):\n",
        "  if x >= a and x <= b:\n",
        "    return 2*(x - a)/((b - a)*(c - a))\n",
        "  elif x > b and x <= c:\n",
        "    return 2*(x - c)/((b - c)*(c - a))\n",
        "  else:\n",
        "    return 0"
      ],
      "metadata": {
        "id": "ic9tbRmXzAu8"
      },
      "execution_count": 13,
      "outputs": []
    },
    {
      "cell_type": "markdown",
      "source": [
        "Gráfica de la distribución triangular"
      ],
      "metadata": {
        "id": "BM9yqagYzw38"
      }
    },
    {
      "cell_type": "code",
      "source": [
        "x = np.linspace(0, 6, 1000)\n",
        "y = [f(1, 3, 5, x) for x in x]\n",
        "plt.plot(x, y)\n",
        "plt.grid(True)\n",
        "plt.show()"
      ],
      "metadata": {
        "colab": {
          "base_uri": "https://localhost:8080/",
          "height": 430
        },
        "id": "nfuXREfpzSCO",
        "outputId": "f2245599-db4c-415b-f39e-0a70876b7133"
      },
      "execution_count": 17,
      "outputs": [
        {
          "output_type": "display_data",
          "data": {
            "text/plain": [
              "<Figure size 640x480 with 1 Axes>"
            ],
            "image/png": "[encoded data removed]"
          },
          "metadata": {}
        }
      ]
    },
    {
      "cell_type": "markdown",
      "source": [
        "Función de transformada inversa, en dónde\n",
        "$$F(x) = \\left\\{\\begin{matrix}\n",
        "\\frac{(x - a)^2}{(c - a)(b - a)} & \\text{si} & a \\le x \\le b\\\\\n",
        "1 + \\frac{(x - c)^2}{(c - a)(b - c)} & \\text{si} & b < x \\le c\n",
        "\\end{matrix}\\right.$$\\\n",
        "$$x = F^{-1}(R) = \\left\\{\\begin{matrix}\n",
        "a + \\sqrt{R(c - a)(b - a)} & \\text{si} & R \\le \\frac{b - a}{c - a}\\\\\n",
        "c - \\sqrt{(R - 1)(c - a)(b - c)} && \\text{otro caso}\n",
        "\\end{matrix}\\right.$$"
      ],
      "metadata": {
        "id": "V2HT2pV_0en2"
      }
    },
    {
      "cell_type": "code",
      "source": [
        "def trans_inv(a, b, c, n):\n",
        "  x = []\n",
        "  for i in range(n):\n",
        "    R = random()\n",
        "    if R <= (b - a)/(c - a):\n",
        "      x.append(a + np.sqrt((b - a)*(c - a)*R))\n",
        "    else:\n",
        "      x.append(c - np.sqrt((c - a)*(c - b)*(1 - R)))\n",
        "  return x"
      ],
      "metadata": {
        "id": "KRod78gXTmLL"
      },
      "execution_count": 25,
      "outputs": []
    },
    {
      "cell_type": "markdown",
      "source": [
        "Histograma de 100,000 números generados"
      ],
      "metadata": {
        "id": "IZtB__3A4x2d"
      }
    },
    {
      "cell_type": "code",
      "source": [
        "a, b, c = 1, 3, 5\n",
        "tri = trans_inv(a, b, c, 100000)\n",
        "plt.hist(tri, bins = 100)\n",
        "plt.show()"
      ],
      "metadata": {
        "id": "p8tYkKCAT50h",
        "colab": {
          "base_uri": "https://localhost:8080/",
          "height": 430
        },
        "outputId": "4455c348-89f3-4e67-82b7-d564239526d0"
      },
      "execution_count": 26,
      "outputs": [
        {
          "output_type": "display_data",
          "data": {
            "text/plain": [
              "<Figure size 640x480 with 1 Axes>"
            ],
            "image/png": "[encoded data removed]"
          },
          "metadata": {}
        }
      ]
    },
    {
      "cell_type": "markdown",
      "source": [
        "Comparación entre media y varianzas simuladas y teóricas"
      ],
      "metadata": {
        "id": "oSWGU5ls7rlc"
      }
    },
    {
      "cell_type": "code",
      "source": [
        "mu_sim = np.mean(tri)\n",
        "s_sim = np.var(tri)\n",
        "\n",
        "mu_teo = (a + b + c)/3\n",
        "s_teo = (a**2 + b**2 + c**2 - a*b - a*c - b*c)/18\n",
        "\n",
        "print(\"Media teórica:\", mu_teo)\n",
        "print(\"Media simulada:\", mu_sim)\n",
        "\n",
        "print(\"\\nVarianza teórica:\", s_teo)\n",
        "print(\"Varianza simulada:\", s_sim)"
      ],
      "metadata": {
        "colab": {
          "base_uri": "https://localhost:8080/"
        },
        "id": "aNl6Ae4ABfNX",
        "outputId": "bc7d5607-d82f-4191-b2dd-454438be6eb9"
      },
      "execution_count": 29,
      "outputs": [
        {
          "output_type": "stream",
          "name": "stdout",
          "text": [
            "Media teórica: 3.0\n",
            "Media simulada: 2.9998704728119843\n",
            "\n",
            "Varianza teórica: 0.6666666666666666\n",
            "Varianza simulada: 0.6651947766927109\n"
          ]
        }
      ]
    }
  ]
}